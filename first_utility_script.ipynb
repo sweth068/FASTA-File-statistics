{
 "cells": [
  {
   "cell_type": "code",
   "execution_count": 1,
   "id": "4909f409",
   "metadata": {},
   "outputs": [
    {
     "name": "stdout",
     "output_type": "stream",
     "text": [
      "Statistics written to: C:/Users/sweth/Downloads/fasta_statistics.txt\n"
     ]
    }
   ],
   "source": [
    "#Importing os and gzip\n",
    "import os\n",
    "import gzip\n",
    "\n",
    "#Defining the path to the input FASTA file\n",
    "fasta_file = \"CAM_PROJ_SargassoSea.read_pep.fa.gz\"\n",
    "\n",
    "#Defining a function to count sequences and residues in a FASTA file\n",
    "def count_fasta_stats(file_path):\n",
    "    #Initializing counters for total sequences and total residues\n",
    "    total_seq = 0\n",
    "    total_res = 0\n",
    "\n",
    "    #Checking if the file is compressed with '.gz' extension\n",
    "    if file_path.endswith('.gz'):\n",
    "        #Opening the compressed file in text mode\n",
    "        with gzip.open(file_path, 'rt') as file:\n",
    "            #Iterating through each line in the file\n",
    "            for line in file:\n",
    "                #Checking if the line starts with '>'\n",
    "                if line.startswith('>'):\n",
    "                    #Incrementing the total sequences count\n",
    "                    total_seq += 1\n",
    "                else:\n",
    "                    #Checking if the line is not empty\n",
    "                    if line.strip():\n",
    "                        #Counting residues by calculating the length of the line\n",
    "                        total_res += len(line.strip())\n",
    "    else:\n",
    "        #Checking if the file is compressed '.bz2' extension\n",
    "        if file_path.endswith('.bz2'):\n",
    "            \n",
    "            pass\n",
    "        else:\n",
    "            #Compressing the file if it is not compressed and save it with a '.gz' extension\n",
    "            compressed_file_path = file_path + '.gz'\n",
    "            with open(file_path, 'rb') as source_file, gzip.open(compressed_file_path, 'wb') as compressed_file:\n",
    "                compressed_file.writelines(source_file)\n",
    "\n",
    "            #Updating the file path to the compressed file\n",
    "            file_path = compressed_file_path\n",
    "\n",
    "        #Opening the compressed file in text mode \n",
    "        with gzip.open(file_path, 'rt') as file:\n",
    "            #Iterating through each line in the compressed file\n",
    "            for line in file:\n",
    "                #Checking if the line starts with '>' \n",
    "                if line.startswith('>'):\n",
    "                    #Incrementing the total sequences count\n",
    "                    total_seq += 1\n",
    "                else:\n",
    "                    #Checking if the line is not empty\n",
    "                    if line.strip():\n",
    "                        #Counting residues by calculating the length of the line\n",
    "                        total_res += len(line.strip())\n",
    "\n",
    "    #Returning the final counts of sequences and residues\n",
    "    return total_seq, total_res\n",
    "\n",
    "#Defining a function to write the statistics to a new file\n",
    "def stats_to_file(output_file, sequences, residues):\n",
    "    with open(output_file, 'w') as file:\n",
    "        file.write(\"Total sequences found: {}\\n\".format(sequences))\n",
    "        file.write(\"Total residues found: {}\\n\".format(residues))\n",
    "\n",
    "#Assigning an output file path\n",
    "output_file = \"fasta_statistics.txt\"\n",
    "\n",
    "#count_fasta_stats function is called with the FASTA file path to get the statistics.\n",
    "sequences, residues = count_fasta_stats(fasta_file)\n",
    "\n",
    "#Writing the statistics to the output file\n",
    "stats_to_file(output_file, sequences, residues)\n",
    "\n",
    "#Printing a message to confirm the output file path\n",
    "print(\"Statistics written to:\", output_file)\n"
   ]
  },
  {
   "cell_type": "code",
   "execution_count": null,
   "id": "95459ef9",
   "metadata": {},
   "outputs": [],
   "source": []
  }
 ],
 "metadata": {
  "kernelspec": {
   "display_name": "Python 3 (ipykernel)",
   "language": "python",
   "name": "python3"
  },
  "language_info": {
   "codemirror_mode": {
    "name": "ipython",
    "version": 3
   },
   "file_extension": ".py",
   "mimetype": "text/x-python",
   "name": "python",
   "nbconvert_exporter": "python",
   "pygments_lexer": "ipython3",
   "version": "3.9.13"
  }
 },
 "nbformat": 4,
 "nbformat_minor": 5
}
